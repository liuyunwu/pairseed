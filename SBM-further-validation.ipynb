{
 "cells": [
  {
   "cell_type": "code",
   "execution_count": 9,
   "metadata": {},
   "outputs": [],
   "source": [
    "include(\"all_code/code_needed.jl\")\n",
    "# example:\n",
    "r = 3; #three communities for now\n",
    "n0 = [100,100,100] #number of nodes in each community\n",
    "p = 0.9 #whithin community\n",
    "q = 0.1 #between communities\n",
    "A,communities = generate_SBM_data(r,n0,p,q)\n",
    "M = create_subnetworks(A,r,n0)\n",
    "# M has 6 matrices as follows:\n",
    "# 1 x x\n",
    "# 2 3 x\n",
    "# 4 5 6\n",
    "# M[i] = the block number in the above picture\n",
    "\n",
    "M0 = A\n",
    "M1 = vcat(hcat(spzeros(M[1]),M[2]',M[4]'),hcat(M[2],spzeros(M[3]),M[5]'),hcat(M[4],M[5],spzeros(M[6])))\n",
    "# M1 has the same matrix with zero matrices on the diagonal\n",
    ";"
   ]
  },
  {
   "cell_type": "code",
   "execution_count": 10,
   "metadata": {},
   "outputs": [],
   "source": [
    "# setup first:\n",
    "#=============#\n",
    "# dropping random edges between two networks (A-C [M4]) and (B-C [M5])\n",
    "tao = 0.8 #percent to keep in training\n",
    "M5train,M5test = split_train_test(M[5],tao);\n",
    "M4train,M4test = split_train_test(M[4],tao);\n",
    "\n",
    "# # Mtrain = [M[1] M[2]' M4train';\n",
    "# #           M[2] M[3]  M[5]';\n",
    "# #           M4train M[5] M[6]]\n",
    "# # Mtrain = [M[1] M[2]' M[4]';\n",
    "# #           M[2] M[3]  M5train';\n",
    "# #           M[4] M5train M[6]]\n",
    "\n",
    "Mtrain = [M[1] M[2]' M4train';\n",
    "          M[2] M[3]  M5train';\n",
    "          M4train M5train M[6]]\n",
    "\n",
    "myalpha = 0.8\n",
    "ii,jj,vv = findnz(M[2])\n",
    "\n",
    "# X1 = M[5][:,ii]\n",
    "# X2 = M4test[:,jj]\n",
    "X1 = M5test[:,ii] # ==> X1[:,1] is all the \"k\" connections to nodes ii\n",
    "X2 = M4test[:,jj] # ==> X2[:,1] is all the \"k\" connections to nodes jj\n",
    "\n",
    "Xtest = X1.*X2;\n",
    "\n",
    "# idstokeep = 1:size(Xtest,2)\n",
    "# idstokeep = findall(sum(Xtest,dims=1)[:].!=0)[1:100]\n",
    "idstokeep = 1:100\n",
    "\n",
    "Xtest = Xtest[:,idstokeep]\n",
    "ii = ii[idstokeep]\n",
    "jj = jj[idstokeep]\n",
    "# Xtest[:,1] is the \"k\" connections with the pair ii[1] and jj[1]\n",
    "\n",
    "exps = length(ii)\n",
    "seed1 = jj;\n",
    "seed2 = ii;\n",
    "# (want to seed on all edges connecting ii and jj)\n",
    "\n",
    "#initialize a few things\n",
    "myalpha = 0.8\n",
    "Mc = copy(Mtrain) #copy(M0)\n",
    "\n",
    "all_aucs_new = zeros(exps,4)\n",
    "Xresult = zeros(size(Xtest));\n",
    "Xresult1 = zeros(size(Xtest));\n",
    "Xresult2 = zeros(size(Xtest));\n",
    "Xresult3 = zeros(size(Xtest));\n",
    "Xresult4 = zeros(size(Xtest));\n",
    ";\n"
   ]
  },
  {
   "cell_type": "code",
   "execution_count": 12,
   "metadata": {},
   "outputs": [],
   "source": [
    "for ei = 1:exps\n",
    "    v = spzeros(size(Mc,2))\n",
    "    vi = copy(v)\n",
    "    vj = copy(v)\n",
    "    rw = [seed1[ei],seed2[ei]]\n",
    "\n",
    "    i = rw[1]\n",
    "    j = rw[2]\n",
    "    jm = n0[1] + j\n",
    "    \n",
    "    v[i] = 0.5\n",
    "    v[jm] = 0.5\n",
    "    vi[i] = 1\n",
    "    vj[jm] = 1\n",
    "    \n",
    "    xrefreal = Xtest[:,ei]\n",
    "    \n",
    "    xsol = seeded_pagerank(Mc,myalpha,v)\n",
    "    xsol1 = seeded_pagerank(Mc,myalpha,vi)\n",
    "    xsol2 = seeded_pagerank(Mc,myalpha,vj)\n",
    "    \n",
    "    xsol3 = xsol1.*xsol2 \n",
    "    xsol4 = xsol1.+xsol2\n",
    "    \n",
    "    xk = xsol[n0[1]+n0[2]+1:end]#DS\n",
    "    xk1 = xsol1[n0[1]+n0[2]+1:end]\n",
    "    xk2 = xsol2[n0[1]+n0[2]+1:end]#SS\n",
    "    xk3 = xsol3[n0[1]+n0[2]+1:end]#SS-A\n",
    "    xk4 = xsol4[n0[1]+n0[2]+1:end]#SS-O\n",
    "    \n",
    "    Xresult[:,ei] = xk\n",
    "    Xresult1[:,ei] = xk1\n",
    "    Xresult2[:,ei] = xk2\n",
    "    Xresult3[:,ei] = xk3\n",
    "    Xresult4[:,ei] = xk4\n",
    "end"
   ]
  },
  {
   "cell_type": "code",
   "execution_count": 13,
   "metadata": {},
   "outputs": [
    {
     "name": "stdout",
     "output_type": "stream",
     "text": [
      "auc = 0.47875937968984494\n",
      "auc = 0.5018609304652326\n",
      "auc = 0.5186793396698349\n",
      "auc = 0.47963981990995497\n",
      "auc = 0.47875937968984494\n"
     ]
    }
   ],
   "source": [
    "v = 1:size(Xtest,2)\n",
    "tpr,fpr,auc = calc_AUC_new(Xtest[:,v],Xresult[:,v]); @show auc\n",
    "tpr,fpr,auc = calc_AUC_new(Xtest[:,v],Xresult1[:,v]); @show auc\n",
    "tpr,fpr,auc = calc_AUC_new(Xtest[:,v],Xresult2[:,v]); @show auc\n",
    "tpr,fpr,auc = calc_AUC_new(Xtest[:,v],Xresult3[:,v]); @show auc\n",
    "tpr,fpr,auc = calc_AUC_new(Xtest[:,v],Xresult4[:,v]); @show auc\n",
    ";"
   ]
  },
  {
   "cell_type": "code",
   "execution_count": 29,
   "metadata": {},
   "outputs": [
    {
     "name": "stdout",
     "output_type": "stream",
     "text": [
      "auc2 = 0.40254277786687065\n"
     ]
    },
    {
     "data": {
      "text/plain": [
       "0.40254277786687065"
      ]
     },
     "execution_count": 29,
     "metadata": {},
     "output_type": "execute_result"
    }
   ],
   "source": [
    "# collapsing the networks\n",
    "# split the data first.\n",
    "# predicting links related to (A,B)\n",
    "tao = 0.8\n",
    "myalpha = 0.8\n",
    "i1,j1,TR = find_edges_of_tris(M);\n",
    "TR = spones(TR)\n",
    "nrows,ncols = size(TR)\n",
    "C = vcat(\n",
    "        hcat(spzeros(Int64,nrows,nrows),TR),\n",
    "        hcat(TR',spzeros(Int64,ncols,ncols))\n",
    "        )\n",
    "\n",
    "\n",
    "Mtrain,Mtest = split_train_test(C,tao);\n",
    "Ctest = Mtest[nrows+1:end,1:nrows]\n",
    "\n",
    "\n",
    "seedon = 1:nrows\n",
    "\n",
    "X = zeros(Float64,ncols,length(seedon));\n",
    "\n",
    "for i = 1:length(seedon)\n",
    "  X[:,i] = seeded_pagerank(Mtrain,myalpha,seedon[i])[nrows+1:end]\n",
    "end\n",
    "tpr2,fpr2,auc2 = calc_AUC_new(Ctest,X); @show auc2\n"
   ]
  }
 ],
 "metadata": {
  "kernelspec": {
   "display_name": "Julia 1.0.0",
   "language": "julia",
   "name": "julia-1.0"
  },
  "language_info": {
   "file_extension": ".jl",
   "mimetype": "application/julia",
   "name": "julia",
   "version": "1.0.0"
  }
 },
 "nbformat": 4,
 "nbformat_minor": 2
}
