{
 "cells": [
  {
   "cell_type": "code",
   "execution_count": 2,
   "metadata": {},
   "outputs": [
    {
     "name": "stdout",
     "output_type": "stream",
     "text": [
      "\u001b[32m\u001b[1m  Updating\u001b[22m\u001b[39m registry at `~/.julia/registries/General`\n",
      "\u001b[32m\u001b[1m  Updating\u001b[22m\u001b[39m git-repo `https://github.com/JuliaRegistries/General.git`\n",
      "\u001b[2K\u001b[?25h[1mFetching:\u001b[22m\u001b[39m [========================================>]  100.0 %.0 %\u001b[32m\u001b[1m Resolving\u001b[22m\u001b[39m package versions...\n",
      "\u001b[32m\u001b[1m Installed\u001b[22m\u001b[39m Parsers ─ v0.2.16\n",
      "\u001b[32m\u001b[1m Installed\u001b[22m\u001b[39m CSV ───── v0.4.3\n",
      "\u001b[32m\u001b[1m  Updating\u001b[22m\u001b[39m `~/.julia/environments/v1.0/Project.toml`\n",
      " \u001b[90m [336ed68f]\u001b[39m\u001b[92m + CSV v0.4.3\u001b[39m\n",
      "\u001b[32m\u001b[1m  Updating\u001b[22m\u001b[39m `~/.julia/environments/v1.0/Manifest.toml`\n",
      " \u001b[90m [336ed68f]\u001b[39m\u001b[92m + CSV v0.4.3\u001b[39m\n",
      " \u001b[90m [69de0a69]\u001b[39m\u001b[92m + Parsers v0.2.16\u001b[39m\n",
      " \u001b[90m [9abbd945]\u001b[39m\u001b[92m + Profile \u001b[39m\n"
     ]
    },
    {
     "name": "stderr",
     "output_type": "stream",
     "text": [
      "┌ Info: Precompiling CSV [336ed68f-0bac-5ca0-87d4-7b16caf5d00b]\n",
      "└ @ Base loading.jl:1186\n"
     ]
    }
   ],
   "source": [
    "using Pkg\n",
    "Pkg.add(\"CSV\")\n",
    "using CSV"
   ]
  },
  {
   "cell_type": "code",
   "execution_count": 5,
   "metadata": {},
   "outputs": [],
   "source": [
    "ratings = Matrix(CSV.read(\"ratings_Amazon_Instant_Video.csv\"));"
   ]
  },
  {
   "cell_type": "code",
   "execution_count": 10,
   "metadata": {},
   "outputs": [
    {
     "data": {
      "text/plain": [
       "583932×4 Array{Any,2}:\n",
       " \"A2F8R40Z2OMIJM\"  \"B000W453KQ\"  5.0   935452800\n",
       " \"A282IMYVM6GP1L\"  \"B0032DGB5K\"  5.0   951868800\n",
       " \"A3RQ1HL5PWTV33\"  \"B0032DGB5K\"  5.0   952128000\n",
       " \"A2W9J1ZCL5N1ZB\"  \"B000ID1PUI\"  5.0   952992000\n",
       " \"A136YD08SCJ2LV\"  \"B000W453KQ\"  5.0   956793600\n",
       " \"A1X4JO8EJ1U5BR\"  \"B000ID1PUI\"  2.0   965260800\n",
       " \"A20EEWWSFMZ1PN\"  \"B000JIJMBQ\"  2.0   967248000\n",
       " \"A1GDRNK3Y5IG9Z\"  \"B0032DGB5K\"  4.0   968025600\n",
       " \"A20EEWWSFMZ1PN\"  \"B000MN4YR0\"  5.0   975456000\n",
       " \"A20EEWWSFMZ1PN\"  \"B000MN6XQK\"  5.0   975456000\n",
       " \"A3QZCA4LTTVGAD\"  \"B0032DGB5K\"  5.0   987552000\n",
       " \"A25YS625NE4NI7\"  \"B000ID1PUI\"  4.0   988502400\n",
       " \"AILQ1G3PB3249\"   \"B004D1ARUK\"  4.0   993859200\n",
       " ⋮                                              \n",
       " \"ALOV2ILKN7QKR\"   \"B00LG0DKBO\"  4.0  1406073600\n",
       " \"A37QK5GOJQ22Q2\"  \"B00LG0DKBO\"  5.0  1406073600\n",
       " \"AYVB9CO7K3CJB\"   \"B00LG0DKBO\"  5.0  1406073600\n",
       " \"A2SDREEZRXASEQ\"  \"B00LG0DKBO\"  4.0  1406073600\n",
       " \"A20JMXA7UJ2YIZ\"  \"B00LG0DKBO\"  3.0  1406073600\n",
       " \"A255LDQWWXHQHD\"  \"B00LLI6DQ0\"  5.0  1406073600\n",
       " \"A1RJQPIRFGM73X\"  \"B00LM493J2\"  3.0  1406073600\n",
       " \"A1334NUL8HM96I\"  \"B00LM493J2\"  4.0  1406073600\n",
       " \"AFAA6FOM2WI8V\"   \"B00LM493J2\"  4.0  1406073600\n",
       " \"AFBQLIP947DCA\"   \"B00LM4VLM4\"  1.0  1406073600\n",
       " \"A13M31J7Q5CDH6\"  \"B00LPWPMCS\"  5.0  1406073600\n",
       " \"A1T6C3RS85ER6R\"  \"B00LPWPMCS\"  4.0  1406073600"
      ]
     },
     "execution_count": 10,
     "metadata": {},
     "output_type": "execute_result"
    }
   ],
   "source": [
    "#(user,item,rating,timestamp) tuples\n",
    "timestamps = sortperm(ratings[:,end])\n",
    "ratings = ratings[timestamps,:]"
   ]
  },
  {
   "cell_type": "code",
   "execution_count": null,
   "metadata": {},
   "outputs": [],
   "source": []
  }
 ],
 "metadata": {
  "kernelspec": {
   "display_name": "Julia 1.0.0",
   "language": "julia",
   "name": "julia-1.0"
  },
  "language_info": {
   "file_extension": ".jl",
   "mimetype": "application/julia",
   "name": "julia",
   "version": "1.0.0"
  }
 },
 "nbformat": 4,
 "nbformat_minor": 2
}
