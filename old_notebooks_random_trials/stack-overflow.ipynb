{
 "cells": [
  {
   "cell_type": "code",
   "execution_count": 10,
   "metadata": {},
   "outputs": [],
   "source": [
    "using EzXML"
   ]
  },
  {
   "cell_type": "code",
   "execution_count": 53,
   "metadata": {},
   "outputs": [
    {
     "data": {
      "text/plain": [
       "26-element Array{String,1}:\n",
       " \"discussion\"       \n",
       " \"questions\"        \n",
       " \"feature-request\"  \n",
       " \"bug\"              \n",
       " \"status-completed\" \n",
       " \"status-bydesign\"  \n",
       " \"tags\"             \n",
       " \"retagging\"        \n",
       " \"asking\"           \n",
       " \"search\"           \n",
       " \"formatting\"       \n",
       " \"support\"          \n",
       " \"vote-to-close\"    \n",
       " \"down-votes\"       \n",
       " \"typeface\"         \n",
       " \"design\"           \n",
       " \"moderation\"       \n",
       " \"asking-questions\" \n",
       " \"official-language\"\n",
       " \"off-topic\"        \n",
       " \"comments\"         \n",
       " \"quran\"            \n",
       " \"judeo-arabic\"     \n",
       " \"on-topic\"         \n",
       " \"site-health\"      \n",
       " \"featured\"         "
      ]
     },
     "execution_count": 53,
     "metadata": {},
     "output_type": "execute_result"
    }
   ],
   "source": [
    "posts_doc = readxml(\"3dprinting.meta.stackexchange.com/Posts.xm\")\n",
    "allposts = root(posts_doc)\n",
    "alltags = Array{String}(undef,0)\n",
    "postids = Array{Int}(undef,0)\n",
    "ownerids = Array{Int}(undef,0)\n",
    "posttags = Array{Array{String}}(undef,0)\n",
    "\n",
    "for post in eachelement(allposts)\n",
    "    # Get an attribute value by name.\n",
    "    if parse(Int,post[\"PostTypeId\"]) == 1\n",
    "        postid = parse(Int,post[\"Id\"])\n",
    "        ownerid = parse(Int,post[\"OwnerUserId\"])\n",
    "        tags = unique(reduce(vcat, split.(split(post[\"Tags\"],\"<\"),\">\")))[2:end]\n",
    "\n",
    "        push!(postids,postid)\n",
    "        push!(ownerids,ownerid)\n",
    "        push!(posttags,tags)\n",
    "\n",
    "    end\n",
    "end"
   ]
  },
  {
   "cell_type": "code",
   "execution_count": 54,
   "metadata": {},
   "outputs": [
    {
     "data": {
      "text/plain": [
       "32-element Array{Int64,1}:\n",
       "  1\n",
       "  7\n",
       "  8\n",
       " 10\n",
       " 12\n",
       " 17\n",
       " 18\n",
       " 19\n",
       " 22\n",
       " 24\n",
       " 25\n",
       " 26\n",
       " 30\n",
       "  ⋮\n",
       " 54\n",
       " 56\n",
       " 58\n",
       " 63\n",
       " 67\n",
       " 68\n",
       " 69\n",
       " 70\n",
       " 74\n",
       " 76\n",
       " 79\n",
       " 81"
      ]
     },
     "execution_count": 54,
     "metadata": {},
     "output_type": "execute_result"
    }
   ],
   "source": [
    "postids\n",
    "uniquetags = unique(reduce(vcat,posttags))"
   ]
  },
  {
   "cell_type": "code",
   "execution_count": 51,
   "metadata": {},
   "outputs": [
    {
     "data": {
      "text/plain": [
       "32-element Array{Array{String,N} where N,1}:\n",
       " [\"discussion\"]                                         \n",
       " [\"discussion\"]                                         \n",
       " [\"discussion\"]                                         \n",
       " [\"discussion\", \"questions\"]                            \n",
       " [\"discussion\"]                                         \n",
       " [\"feature-request\"]                                    \n",
       " [\"bug\", \"status-completed\"]                            \n",
       " [\"bug\", \"status-bydesign\"]                             \n",
       " [\"discussion\"]                                         \n",
       " [\"discussion\", \"tags\", \"retagging\", \"asking\"]          \n",
       " [\"discussion\", \"search\", \"formatting\"]                 \n",
       " [\"discussion\"]                                         \n",
       " [\"support\", \"tags\"]                                    \n",
       " ⋮                                                      \n",
       " [\"discussion\", \"moderation\", \"official-language\"]      \n",
       " [\"discussion\", \"off-topic\"]                            \n",
       " [\"discussion\", \"down-votes\", \"comments\"]               \n",
       " [\"discussion\", \"off-topic\"]                            \n",
       " [\"discussion\", \"off-topic\", \"quran\"]                   \n",
       " [\"discussion\"]                                         \n",
       " [\"discussion\", \"off-topic\", \"judeo-arabic\", \"on-topic\"]\n",
       " [\"discussion\"]                                         \n",
       " [\"discussion\", \"off-topic\"]                            \n",
       " [\"discussion\", \"moderation\", \"site-health\"]            \n",
       " [\"discussion\", \"formatting\"]                           \n",
       " [\"discussion\", \"featured\"]                             "
      ]
     },
     "execution_count": 51,
     "metadata": {},
     "output_type": "execute_result"
    }
   ],
   "source": [
    "posttags"
   ]
  },
  {
   "cell_type": "code",
   "execution_count": null,
   "metadata": {},
   "outputs": [],
   "source": []
  }
 ],
 "metadata": {
  "kernelspec": {
   "display_name": "Julia 1.0.0",
   "language": "julia",
   "name": "julia-1.0"
  },
  "language_info": {
   "file_extension": ".jl",
   "mimetype": "application/julia",
   "name": "julia",
   "version": "1.0.0"
  }
 },
 "nbformat": 4,
 "nbformat_minor": 2
}
