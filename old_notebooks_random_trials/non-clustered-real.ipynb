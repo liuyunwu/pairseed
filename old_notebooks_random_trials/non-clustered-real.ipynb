{
 "cells": [
  {
   "cell_type": "code",
   "execution_count": 2,
   "metadata": {},
   "outputs": [],
   "source": [
    "using SparseArrays\n",
    "# run(`wget https://snap.stanford.edu/data/loc-gowalla_edges.txt.gz`)\n",
    "\n",
    "# #unzip the data\n",
    "# run(`gunzip -k loc-gowalla_edges.txt.gz`)\n",
    "\n",
    "#if package doesn't exist yet: `using Pkg; Pkg.clone(\"https://github.com/dgleich/NumbersFromText.jl\")`\n",
    "using NumbersFromText \n",
    "M = readmatrix(Int,\"loc-gowalla_edges.txt\")\n",
    "M .+= 1\n",
    "A = sparse(M[:,1],M[:,2],1,maximum(M),maximum(M)) \n",
    "A = max.(A,A') # adjacency matrix of the graph\n",
    ";"
   ]
  },
  {
   "cell_type": "code",
   "execution_count": 5,
   "metadata": {},
   "outputs": [
    {
     "data": {
      "text/plain": [
       "(2273138,)"
      ]
     },
     "execution_count": 5,
     "metadata": {},
     "output_type": "execute_result"
    }
   ],
   "source": [
    "include(\"all_code/code_needed.jl\")\n",
    "mytriangles = triangles(A)\n",
    "z = collect(mytriangles)\n",
    "ei,ej,ek = unzip_triangles(z)\n",
    "size(z)\n"
   ]
  },
  {
   "cell_type": "code",
   "execution_count": 9,
   "metadata": {},
   "outputs": [
    {
     "name": "stdout",
     "output_type": "stream",
     "text": [
      "length(ei) = 760261\n",
      "i = 1\n",
      "i = 2\n",
      "i = 3\n",
      "i = 4\n",
      "i = 5\n",
      "i = 6\n",
      "i = 7\n",
      "i = 8\n",
      "i = 9\n",
      "i = 10\n",
      "i = 11\n",
      "i = 12\n",
      "i = 13\n",
      "i = 14\n",
      "i = 15\n",
      "i = 16\n",
      "i = 17\n",
      "i = 18\n",
      "i = 19\n",
      "i = 20\n",
      "i = 21\n",
      "i = 22\n",
      "i = 23\n",
      "i = 24\n",
      "i = 25\n",
      "i = 26\n",
      "i = 27\n",
      "i = 28\n",
      "i = 29\n",
      "i = 30\n",
      "i = 31\n",
      "i = 32\n",
      "i = 33\n",
      "i = 34\n",
      "i = 35\n",
      "i = 36\n",
      "i = 37\n",
      "i = 38\n",
      "i = 39\n",
      "i = 40\n",
      "i = 41\n",
      "i = 42\n",
      "i = 43\n",
      "i = 44\n",
      "i = 45\n",
      "i = 46\n",
      "i = 47\n",
      "i = 48\n",
      "i = 49\n",
      "i = 50\n",
      "i = 51\n",
      "i = 52\n",
      "i = 53\n",
      "i = 54\n",
      "i = 55\n",
      "i = 56\n",
      "i = 57\n",
      "i = 58\n",
      "i = 59\n",
      "i = 60\n",
      "i = 61\n",
      "i = 62\n",
      "i = 63\n",
      "i = 64\n",
      "i = 65\n",
      "i = 66\n",
      "i = 67\n",
      "i = 68\n",
      "i = 69\n",
      "i = 70\n",
      "i = 71\n",
      "i = 72\n",
      "i = 73\n",
      "i = 74\n",
      "i = 75\n",
      "i = 76\n",
      "i = 77\n",
      "i = 78\n",
      "i = 79\n",
      "i = 80\n",
      "i = 81\n",
      "i = 82\n",
      "i = 83\n",
      "i = 84\n",
      "i = 85\n",
      "i = 86\n",
      "i = 87\n",
      "i = 88\n",
      "i = 89\n",
      "i = 90\n",
      "i = 91\n",
      "i = 92\n",
      "i = 93\n",
      "i = 94\n",
      "i = 95\n",
      "i = 96\n",
      "i = 97\n",
      "i = 98\n",
      "i = 99\n",
      "i = 100\n"
     ]
    }
   ],
   "source": [
    "tao = 0.8\n",
    "Atrain,Atest = split_train_test(A,tao);\n",
    "ei,ej,ev = findnz(triu(Atrain))\n",
    "@show length(ei)\n",
    "n = size(A,1)\n",
    "myalpha = 0.8\n",
    "AUC1 = []\n",
    "AUC2 = []\n",
    "AUC3 = []\n",
    "for i = 1:100#length(ei)\n",
    "    @show i\n",
    "\n",
    "    v1 = ei[i]\n",
    "    v2 = ej[i]\n",
    "    xd,xs1,xs2 = double_seed(Atrain,v1,v2,myalpha)\n",
    "    \n",
    "    \n",
    "    tris = unzip_triangles(collect(triangles(A,v1)))\n",
    "    # tris2 = unzip_triangles(collect(triangles(A,v2)))\n",
    "    # tris[1] is all = v1\n",
    "    ek1 = tris[3][findall(tris[2].==v2)]\n",
    "    ek2 = tris[2][findall(tris[3].==v2)]\n",
    "    xref = spzeros(n)\n",
    "    if !isempty(ek1)\n",
    "        xref[ek1] .= 1\n",
    "    end\n",
    "    if !isempty(ek2)\n",
    "        xref[ek2] .= 1\n",
    "    end\n",
    "    \n",
    "    tpr,fpr,auc1 = calc_AUC_new(xref,xd); push!(AUC1,auc1);\n",
    "    tpr,fpr,auc2 = calc_AUC_new(xref,xs1); push!(AUC2,auc2);\n",
    "    tpr,fpr,auc3 = calc_AUC_new(xref,xs2); push!(AUC3,auc3);\n",
    "    \n",
    "end"
   ]
  },
  {
   "cell_type": "code",
   "execution_count": 23,
   "metadata": {},
   "outputs": [
    {
     "name": "stderr",
     "output_type": "stream",
     "text": [
      "┌ Warning: seriestype boxplot has been moved to StatsPlots.  To use: `Pkg.add(\"StatsPlots\"); using StatsPlots`\n",
      "└ @ Plots /homes/hnassar/.julia/packages/Plots/UQI78/src/args.jl:1054\n",
      "┌ Warning: seriestype boxplot has been moved to StatsPlots.  To use: `Pkg.add(\"StatsPlots\"); using StatsPlots`\n",
      "└ @ Plots /homes/hnassar/.julia/packages/Plots/UQI78/src/args.jl:1054\n"
     ]
    },
    {
     "data": {
      "image/png": "[encoded data removed]"
     },
     "execution_count": 23,
     "metadata": {},
     "output_type": "execute_result"
    }
   ],
   "source": [
    "pyplot()\n",
    "aucvals = hcat(AUC1,AUC2,AUC3)\n",
    "aucvals = aucvals'[:]\n",
    "boxplot([\"DS\",\"SS-1\",\"SS-2\"],aucvals,leg=false)\n",
    "xlabel!(\"method used\")\n",
    "ylabel!(\"auc scores for all experiments on all triangles\")"
   ]
  },
  {
   "cell_type": "code",
   "execution_count": 24,
   "metadata": {},
   "outputs": [
    {
     "data": {
      "text/plain": [
       "4.917855913452399e-5"
      ]
     },
     "execution_count": 24,
     "metadata": {},
     "output_type": "execute_result"
    }
   ],
   "source": [
    "nnz(A)/prod(size(A))"
   ]
  },
  {
   "cell_type": "code",
   "execution_count": 31,
   "metadata": {},
   "outputs": [],
   "source": [
    "# run(`wget https://snap.stanford.edu/data/p2p-Gnutella04.txt.gz`)\n",
    "\n",
    "#unzip the data\n",
    "# run(`gunzip -k p2p-Gnutella04.txt.gz`)\n",
    "\n",
    "# #if package doesn't exist yet: `using Pkg; Pkg.clone(\"https://github.com/dgleich/NumbersFromText.jl\")`\n",
    "using NumbersFromText \n",
    "M = readmatrix(Int,\"loc-gowalla_edges.txt\")\n",
    "M .+= 1\n",
    "B = sparse(M[:,1],M[:,2],1,maximum(M),maximum(M)) \n",
    "B = max.(B,B') # adjacency matrix of the graph\n",
    ";"
   ]
  },
  {
   "cell_type": "code",
   "execution_count": 33,
   "metadata": {},
   "outputs": [
    {
     "name": "stdout",
     "output_type": "stream",
     "text": [
      "length(ei) = 760261\n",
      "i = 1\n",
      "i = 2\n",
      "i = 3\n",
      "i = 4\n",
      "i = 5\n",
      "i = 6\n",
      "i = 7\n",
      "i = 8\n",
      "i = 9\n",
      "i = 10\n",
      "i = 11\n",
      "i = 12\n",
      "i = 13\n",
      "i = 14\n",
      "i = 15\n",
      "i = 16\n",
      "i = 17\n",
      "i = 18\n",
      "i = 19\n",
      "i = 20\n",
      "i = 21\n",
      "i = 22\n",
      "i = 23\n",
      "i = 24\n",
      "i = 25\n",
      "i = 26\n",
      "i = 27\n",
      "i = 28\n",
      "i = 29\n",
      "i = 30\n",
      "i = 31\n",
      "i = 32\n",
      "i = 33\n",
      "i = 34\n",
      "i = 35\n",
      "i = 36\n",
      "i = 37\n",
      "i = 38\n",
      "i = 39\n",
      "i = 40\n",
      "i = 41\n",
      "i = 42\n",
      "i = 43\n",
      "i = 44\n",
      "i = 45\n",
      "i = 46\n",
      "i = 47\n",
      "i = 48\n",
      "i = 49\n",
      "i = 50\n",
      "i = 51\n"
     ]
    },
    {
     "ename": "InterruptException",
     "evalue": "InterruptException:",
     "output_type": "error",
     "traceback": [
      "InterruptException:",
      "",
      "Stacktrace:",
      " [1] getindex at ./boot.jl:394 [inlined]",
      " [2] sum_kbn(::Array{Float64,1}) at /homes/hnassar/.julia/packages/KahanSummation/hw63a/src/KahanSummation.jl:72",
      " [3] pagerank_power!(::Array{Float64,1}, ::Array{Float64,1}, ::MatrixNetworks.SparseMatrixStochasticMult, ::Float64, ::SparseVector{Float64,Int64}, ::Float64, ::Int64, ::typeof(MatrixNetworks._noiterfunc)) at /homes/hnassar/.julia/packages/MatrixNetworks/SyG3a/src/diffusions.jl:176",
      " [4] _personalized_pagerank_validated(::SparseMatrixCSC{Int64,Int64}, ::Float64, ::SparseVector{Float64,Int64}, ::Float64) at /homes/hnassar/.julia/packages/MatrixNetworks/SyG3a/src/diffusions.jl:612",
      " [5] personalized_pagerank!(::SparseMatrixCSC{Int64,Int64}, ::Float64, ::SparseVector{Float64,Int64}, ::Float64) at /homes/hnassar/.julia/packages/MatrixNetworks/SyG3a/src/diffusions.jl:576",
      " [6] personalized_pagerank at /homes/hnassar/.julia/packages/MatrixNetworks/SyG3a/src/diffusions.jl:558 [inlined]",
      " [7] personalized_pagerank at /homes/hnassar/.julia/packages/MatrixNetworks/SyG3a/src/diffusions.jl:490 [inlined]",
      " [8] seeded_pagerank at /homes/hnassar/.julia/packages/MatrixNetworks/SyG3a/src/diffusions.jl:484 [inlined]",
      " [9] double_seed at /u/subspace_s4/hnassar/threeway-jan-19/all_code/code_needed.jl:293 [inlined]",
      " [10] top-level scope at ./In[33]:14"
     ]
    }
   ],
   "source": [
    "tao = 0.8\n",
    "Atrain,Atest = split_train_test(B,tao);\n",
    "ei,ej,ev = findnz(triu(Atrain))\n",
    "@show length(ei)\n",
    "n = size(A,1)\n",
    "myalpha = 0.8\n",
    "AUC1 = []\n",
    "AUC2 = []\n",
    "AUC3 = []\n",
    "for i = 1:length(ei)\n",
    "    @show i\n",
    "\n",
    "    v1 = ei[i]\n",
    "    v2 = ej[i]\n",
    "    xd,xs1,xs2 = double_seed(Atrain,v1,v2,myalpha)\n",
    "    \n",
    "    \n",
    "    tris = unzip_triangles(collect(triangles(A,v1)))\n",
    "    # tris2 = unzip_triangles(collect(triangles(A,v2)))\n",
    "    # tris[1] is all = v1\n",
    "    ek1 = tris[3][findall(tris[2].==v2)]\n",
    "    ek2 = tris[2][findall(tris[3].==v2)]\n",
    "    xref = spzeros(n)\n",
    "    if !isempty(ek1)\n",
    "        xref[ek1] .= 1\n",
    "    end\n",
    "    if !isempty(ek2)\n",
    "        xref[ek2] .= 1\n",
    "    end\n",
    "    \n",
    "    tpr,fpr,auc1 = calc_AUC_new(xref,xd); push!(AUC1,auc1);\n",
    "    tpr,fpr,auc2 = calc_AUC_new(xref,xs1); push!(AUC2,auc2);\n",
    "    tpr,fpr,auc3 = calc_AUC_new(xref,xs2); push!(AUC3,auc3);\n",
    "    \n",
    "end"
   ]
  },
  {
   "cell_type": "code",
   "execution_count": 34,
   "metadata": {},
   "outputs": [
    {
     "name": "stderr",
     "output_type": "stream",
     "text": [
      "┌ Warning: seriestype boxplot has been moved to StatsPlots.  To use: `Pkg.add(\"StatsPlots\"); using StatsPlots`\n",
      "└ @ Plots /homes/hnassar/.julia/packages/Plots/UQI78/src/args.jl:1054\n",
      "┌ Warning: seriestype boxplot has been moved to StatsPlots.  To use: `Pkg.add(\"StatsPlots\"); using StatsPlots`\n",
      "└ @ Plots /homes/hnassar/.julia/packages/Plots/UQI78/src/args.jl:1054\n"
     ]
    },
    {
     "data": {
      "image/png": "[encoded data removed]"
     },
     "execution_count": 34,
     "metadata": {},
     "output_type": "execute_result"
    }
   ],
   "source": [
    "pyplot()\n",
    "aucvals = hcat(AUC1,AUC2,AUC3)\n",
    "aucvals = aucvals'[:]\n",
    "boxplot([\"DS\",\"SS-1\",\"SS-2\"],aucvals,leg=false)\n",
    "xlabel!(\"method used\")\n",
    "ylabel!(\"auc scores for all experiments on all triangles\")"
   ]
  },
  {
   "cell_type": "code",
   "execution_count": null,
   "metadata": {},
   "outputs": [],
   "source": []
  }
 ],
 "metadata": {
  "kernelspec": {
   "display_name": "Julia 1.0.0",
   "language": "julia",
   "name": "julia-1.0"
  },
  "language_info": {
   "file_extension": ".jl",
   "mimetype": "application/julia",
   "name": "julia",
   "version": "1.0.0"
  }
 },
 "nbformat": 4,
 "nbformat_minor": 2
}
